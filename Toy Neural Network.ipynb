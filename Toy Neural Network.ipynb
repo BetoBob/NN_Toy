{
 "cells": [
  {
   "cell_type": "markdown",
   "metadata": {},
   "source": [
    "# Toy Neural Net\n",
    "\n",
    "[Neural Network Simulator](https://www.mladdict.com/neural-network-simulator)\n",
    "\n",
    "![mladdict](mladdict.png)\n",
    "\n",
    "### To-Do\n",
    "* make an intro explaining the purpose of this notebook\n",
    "* "
   ]
  },
  {
   "cell_type": "markdown",
   "metadata": {},
   "source": [
    "## Theory\n",
    "\n",
    "### Initialization\n",
    "\n",
    "### Forward Pass\n",
    "\n",
    "### Backpropogation Pass\n",
    "\n",
    "### To-Do:\n",
    "* Brush Up on the Chain Rule\n",
    "* explain every formula using LaTex formulas"
   ]
  },
  {
   "cell_type": "markdown",
   "metadata": {},
   "source": [
    "## Test Cases\n",
    "\n",
    "I'm writing this test case to make about 5 test cases for the Neural Network, each with four iterations.\n",
    "* one iteration consists of a forward pass and a backwards pass\n",
    "* I will be using four iterations because the author uses \n",
    "\n",
    "### To-Do:\n",
    "* brush up on Python Unit Testing"
   ]
  },
  {
   "cell_type": "code",
   "execution_count": null,
   "metadata": {},
   "outputs": [],
   "source": []
  },
  {
   "cell_type": "markdown",
   "metadata": {},
   "source": [
    "## Neural Network Exercise\n",
    "\n",
    "### To-Do:\n",
    "* create a skeleton for the user to implement their own code\n",
    "    * include a class\n",
    "    * maybe even include function headers\n",
    "    * they will be responsible for writing the logic of each function (the underlying math)\n",
    "* include guide to using test cases"
   ]
  },
  {
   "cell_type": "code",
   "execution_count": null,
   "metadata": {},
   "outputs": [],
   "source": []
  },
  {
   "cell_type": "markdown",
   "metadata": {},
   "source": [
    "## Neural Network (My Implementation)\n",
    "\n",
    "### To-Do:\n",
    "* implement it (do this before making the Neural Network Exercise)"
   ]
  },
  {
   "cell_type": "code",
   "execution_count": null,
   "metadata": {},
   "outputs": [],
   "source": []
  },
  {
   "cell_type": "markdown",
   "metadata": {},
   "source": [
    "## Data Collection\n",
    "\n",
    "This is a little bit of extra code for creating the test datasets. Selenium is great for scraping this data because it can interact with the model. The data of each step and iteration will be stored in CSVs so the selenium script doesn't need to be run for each test case. \n",
    "\n",
    "* following [Selenium Python API Guide](https://selenium-python.readthedocs.io/index.html)\n",
    "    * [Chapter 4](https://selenium-python.readthedocs.io/locating-elements.html) explains how to locate elements (I am using CSS selector)\n",
    "* this repository uses [ChromeDriver](https://sites.google.com/a/chromium.org/chromedriver/downloads) for Linux (v77)\n",
    "\n"
   ]
  },
  {
   "cell_type": "code",
   "execution_count": 11,
   "metadata": {},
   "outputs": [],
   "source": [
    "# Libraries\n",
    "\n",
    "# Selenium\n",
    "from selenium import webdriver\n",
    "from selenium.webdriver.common.keys import Keys\n",
    "\n",
    "# Python\n",
    "import re\n",
    "import time\n",
    "\n",
    "# ____________________________________________________________________________\n",
    "\n",
    "# Setup Driver / Launch Site\n",
    "driver = webdriver.Chrome(\"./chromedriver\")\n",
    "driver.get(\"https://www.mladdict.com/neural-network-simulator\")\n",
    "\n",
    "\n",
    "# Data Collection \n",
    "def test_vals_collect():\n",
    "    \n",
    "    def get_value(css_selector):\n",
    "        return float(\n",
    "            re.findall(r'[-+]?\\d*\\.\\d+|\\d+',\n",
    "                       driver.find_element_by_css_selector(css_selector).text\n",
    "                      )[0]\n",
    "        )\n",
    "    \n",
    "    def one_step():\n",
    "        driver.find_element_by_css_selector(\n",
    "            '#app > div > div:nth-child(2) > div > div > div:nth-child(2) > div > div:nth-child(2) > div > div > div.player.text-center > button:nth-child(2)'\n",
    "        ).click()\n",
    "\n",
    "    # 0) Initialization\n",
    "    \n",
    "    selector_parent_path = '#app > div > div:nth-child(2) > div > div > div:nth-child(2) > div > div:nth-child(1) > div.col-md-10.col-sm-12.col-xs-12.vcenter > div > svg > svg:nth-child(2) >'\n",
    "    \n",
    "    w_2_11 = get_value(selector_parent_path + 'svg:nth-child(1) > svg:nth-child(1) > svg > text')\n",
    "    w_2_21 = get_value(selector_parent_path + 'svg:nth-child(1) > svg:nth-child(4) > svg > text')\n",
    "    w_2_12 = get_value(selector_parent_path + 'svg:nth-child(1) > svg:nth-child(2) > svg > text')\n",
    "    w_2_22 = get_value(selector_parent_path + 'svg:nth-child(1) > svg:nth-child(5) > svg > text')\n",
    "    w_2_13 = get_value(selector_parent_path + 'svg:nth-child(1) > svg:nth-child(3) > svg > text')\n",
    "    w_2_23 = get_value(selector_parent_path + 'svg:nth-child(1) > svg:nth-child(6) > svg > text')\n",
    "\n",
    "    w_3_11 = get_value(selector_parent_path + 'svg:nth-child(2) > svg:nth-child(1) > svg > text')\n",
    "    w_3_21 = get_value(selector_parent_path + 'svg:nth-child(2) > svg:nth-child(2) > svg > text')\n",
    "    w_3_31 = get_value(selector_parent_path + 'svg:nth-child(2) > svg:nth-child(3) > svg > text')\n",
    "\n",
    "    # 1) Input Layer\n",
    "    \n",
    "    one_step()\n",
    "\n",
    "    # 2) Hidden Layer\n",
    "    \n",
    "    one_step()\n",
    "\n",
    "    # 3) Output Layer\n",
    "    \n",
    "    one_step()\n",
    "\n",
    "    # 4) Calculate the cost\n",
    "    \n",
    "    one_step()\n",
    "\n",
    "    # 5) Error in the output layer\n",
    "    \n",
    "    one_step()\n",
    "\n",
    "    # 6) Error in the hidden layer\n",
    "    \n",
    "    one_step()\n",
    "\n",
    "    # 7) Calculate the error with respect to weights between hidden and output layer\n",
    "    \n",
    "    one_step()\n",
    "\n",
    "    # 8) Calculate the error with respect to weights between input and hidden layer\n",
    "    \n",
    "    one_step()\n",
    "\n",
    "    # 9) Update the weights between hidden and output layer\n",
    "    \n",
    "    one_step()\n",
    "\n",
    "    # 10) Update the weights between input and hidden layer\n",
    "    \n",
    "    one_step()\n",
    "    \n",
    "    \n",
    "    return 0 # object? (what would be easiest for writting to a csv)\n",
    "\n",
    "test_vals_collect()\n",
    "\n",
    "\n",
    "# End\n",
    "driver.close()"
   ]
  },
  {
   "cell_type": "code",
   "execution_count": null,
   "metadata": {},
   "outputs": [],
   "source": []
  }
 ],
 "metadata": {
  "kernelspec": {
   "display_name": "Python 3",
   "language": "python",
   "name": "python3"
  },
  "language_info": {
   "codemirror_mode": {
    "name": "ipython",
    "version": 2
   },
   "file_extension": ".py",
   "mimetype": "text/x-python",
   "name": "python",
   "nbconvert_exporter": "python",
   "pygments_lexer": "ipython2",
   "version": "2.7.15+"
  }
 },
 "nbformat": 4,
 "nbformat_minor": 2
}
