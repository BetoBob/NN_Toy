{
 "cells": [
  {
   "cell_type": "markdown",
   "metadata": {},
   "source": [
    "# Toy Neural Net\n",
    "\n",
    "[Neural Network Simulator](https://www.mladdict.com/neural-network-simulator)"
   ]
  },
  {
   "cell_type": "markdown",
   "metadata": {},
   "source": [
    "## Testing\n",
    "* following [this guide](https://selenium-python.readthedocs.io/index.html)\n",
    "    * [Chapter 4](https://selenium-python.readthedocs.io/locating-elements.html) explains how to locate elements (I am using CSS selector)\n",
    "* this repository uses [ChromeDriver](https://sites.google.com/a/chromium.org/chromedriver/downloads) for Linux (v77)"
   ]
  },
  {
   "cell_type": "code",
   "execution_count": 54,
   "metadata": {},
   "outputs": [],
   "source": [
    "# Libraries\n",
    "\n",
    "# Selenium\n",
    "from selenium import webdriver\n",
    "from selenium.webdriver.common.keys import Keys\n",
    "\n",
    "# Python\n",
    "import re\n",
    "\n",
    "# ____________________________________________________________________________\n",
    "\n",
    "# Setup Driver / Launch Site\n",
    "driver = webdriver.Chrome(\"./chromedriver\")\n",
    "driver.get(\"https://www.mladdict.com/neural-network-simulator\")\n",
    "\n",
    "\n",
    "# Data Collection \n",
    "def test_vals_collect():\n",
    "    \n",
    "    def get_value(css_selector):\n",
    "        return float(\n",
    "            re.findall(r'[-+]?\\d*\\.\\d+|\\d+',\n",
    "                       driver.find_element_by_css_selector(css_selector).text\n",
    "                      )[0]\n",
    "        )\n",
    "\n",
    "    # 0) Initialization\n",
    "    \n",
    "    selector_parent_path = '#app > div > div:nth-child(2) > div > div > div:nth-child(2) > div > div:nth-child(1) > div.col-md-10.col-sm-12.col-xs-12.vcenter > div > svg > svg:nth-child(2) >'\n",
    "    \n",
    "    w_2_11 = get_value(selector_parent_path + 'svg:nth-child(1) > svg:nth-child(1) > svg > text')\n",
    "    w_2_21 = get_value(selector_parent_path + 'svg:nth-child(1) > svg:nth-child(4) > svg > text')\n",
    "    w_2_12 = get_value(selector_parent_path + 'svg:nth-child(1) > svg:nth-child(2) > svg > text')\n",
    "    w_2_22 = get_value(selector_parent_path + 'svg:nth-child(1) > svg:nth-child(5) > svg > text')\n",
    "    w_2_13 = get_value(selector_parent_path + 'svg:nth-child(1) > svg:nth-child(3) > svg > text')\n",
    "    w_2_23 = get_value(selector_parent_path + 'svg:nth-child(1) > svg:nth-child(6) > svg > text')\n",
    "\n",
    "    w_3_11 = get_value(selector_parent_path + 'svg:nth-child(2) > svg:nth-child(1) > svg > text')\n",
    "    w_3_21 = get_value(selector_parent_path + 'svg:nth-child(2) > svg:nth-child(2) > svg > text')\n",
    "    w_3_31 = get_value(selector_parent_path + 'svg:nth-child(2) > svg:nth-child(3) > svg > text')\n",
    "\n",
    "    # 1) Input Layer\n",
    "    \n",
    "    x_1 = 0\n",
    "    x_2 = 0\n",
    "\n",
    "    # 2) Hidden Layer\n",
    "\n",
    "    # 3) Output Layer\n",
    "\n",
    "    # 4) Calculate the cost\n",
    "\n",
    "    # 5) Error in the output Layer\n",
    "\n",
    "    # 6) Error in the hidden layer\n",
    "\n",
    "    # 7) Calculate the error with respect to weights between hidden and output layer\n",
    "\n",
    "    # 8) Calculate the error with respect to weights between input and hidden layer\n",
    "\n",
    "    # 9) Update the weights between hidden and output layer\n",
    "\n",
    "    # 10) Update the weights between input and hidden layer\n",
    "    \n",
    "    \n",
    "    return 0 # object? (what would be easiest for writting to a csv)\n",
    "\n",
    "test_vals_collect()\n",
    "\n",
    "\n",
    "\n",
    "# End\n",
    "driver.close()"
   ]
  },
  {
   "cell_type": "code",
   "execution_count": null,
   "metadata": {},
   "outputs": [],
   "source": [
    "# Input\n",
    "x_1 = np.array([1, 0, 1, 0])\n",
    "x_2 = np.array([1, 1, 0, 0])\n",
    "y   = np.array([0, 1, 1, 0])\n",
    "\n",
    "# Weights (Hidden Layer 1)\n",
    "W_1_1 = 0.09979296\n",
    "W_2_1 = 0.00725321\n",
    "\n",
    "W_1_2 = -0.68081849\n",
    "W_2_2 = -0.73768875\n",
    "\n",
    "W_1_3 = 0.02592901\n",
    "W_2_3 = 0.0495334\n",
    "\n",
    "# Weights (Output)\n",
    "W_1_1 = -0.85672409\n",
    "W_2_1 = 0.64333851\n",
    "W_3_1 = 0.00054628"
   ]
  },
  {
   "cell_type": "code",
   "execution_count": null,
   "metadata": {},
   "outputs": [],
   "source": []
  }
 ],
 "metadata": {
  "kernelspec": {
   "display_name": "Python 3",
   "language": "python",
   "name": "python3"
  },
  "language_info": {
   "codemirror_mode": {
    "name": "ipython",
    "version": 2
   },
   "file_extension": ".py",
   "mimetype": "text/x-python",
   "name": "python",
   "nbconvert_exporter": "python",
   "pygments_lexer": "ipython2",
   "version": "2.7.15+"
  }
 },
 "nbformat": 4,
 "nbformat_minor": 2
}
