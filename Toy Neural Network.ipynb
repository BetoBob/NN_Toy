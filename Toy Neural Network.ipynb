{
 "cells": [
  {
   "cell_type": "markdown",
   "metadata": {},
   "source": [
    "# Toy Neural Net\n",
    "\n",
    "[Neural Network Simulator](https://www.mladdict.com/neural-network-simulator)\n",
    "\n",
    "* Goal: make a web scraper that takes in data to build tests.\n",
    "    * One possible solution: [Web Scraping](https://www.crummy.com/software/BeautifulSoup/bs4/doc/)"
   ]
  },
  {
   "cell_type": "code",
   "execution_count": 7,
   "metadata": {},
   "outputs": [],
   "source": [
    "# Libraries\n",
    "\n",
    "import numpy as np\n",
    "from bs4 import BeautifulSoup"
   ]
  },
  {
   "cell_type": "code",
   "execution_count": 4,
   "metadata": {},
   "outputs": [],
   "source": [
    "# Input\n",
    "x_1 = np.array([1, 0, 1, 0])\n",
    "x_2 = np.array([1, 1, 0, 0])\n",
    "y   = np.array([0, 1, 1, 0])\n",
    "\n",
    "# Weights (Hidden Layer 1)\n",
    "W_1_1 = 0.09979296\n",
    "W_2_1 = 0.00725321\n",
    "\n",
    "W_1_2 = -0.68081849\n",
    "W_2_2 = -0.73768875\n",
    "\n",
    "W_1_3 = 0.02592901\n",
    "W_2_3 = 0.0495334\n",
    "\n",
    "# Weights (Output)\n",
    "W_1_1 = -0.85672409\n",
    "W_2_1 = 0.64333851\n",
    "W_3_1 = 0.00054628"
   ]
  },
  {
   "cell_type": "code",
   "execution_count": 8,
   "metadata": {},
   "outputs": [],
   "source": [
    "# My Nueral Network\n",
    "\n",
    "class NeuralNetwork:\n",
    "    \n",
    "    def __init__(self, W_1_1):\n",
    "        self.W_1_1 = W_1_1\n",
    "         "
   ]
  },
  {
   "cell_type": "code",
   "execution_count": null,
   "metadata": {},
   "outputs": [],
   "source": []
  }
 ],
 "metadata": {
  "kernelspec": {
   "display_name": "Python 3",
   "language": "python",
   "name": "python3"
  },
  "language_info": {
   "codemirror_mode": {
    "name": "ipython",
    "version": 2
   },
   "file_extension": ".py",
   "mimetype": "text/x-python",
   "name": "python",
   "nbconvert_exporter": "python",
   "pygments_lexer": "ipython2",
   "version": "2.7.15+"
  }
 },
 "nbformat": 4,
 "nbformat_minor": 2
}
