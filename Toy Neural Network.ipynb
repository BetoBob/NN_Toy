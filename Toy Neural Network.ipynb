{
 "cells": [
  {
   "cell_type": "markdown",
   "metadata": {},
   "source": [
    "# Toy Neural Network\n",
    "\n",
    "[Neural Network Simulator](https://www.mladdict.com/neural-network-simulator)\n",
    "\n",
    "![mladdict](mladdict.png)\n",
    "\n",
    "### To-Do\n",
    "* make an intro explaining the purpose of this notebook\n",
    "* table of contents?\n",
    "    * also look up the extension in jupyter notebooks for [table of contents](https://jupyter-contrib-nbextensions.readthedocs.io/en/latest/nbextensions/toc2/README.html)\n",
    "    * [Installing NB Extensions](https://jupyter-contrib-nbextensions.readthedocs.io/en/latest/install.html)\n",
    "* make **Thoery** section notes \n",
    "    * Architecture Explanation\n",
    "    * Initialization\n",
    "    * Forward Pass\n",
    "    * Backpropogation Pass"
   ]
  },
  {
   "cell_type": "markdown",
   "metadata": {},
   "source": [
    "## Neural Network"
   ]
  },
  {
   "cell_type": "code",
   "execution_count": 305,
   "metadata": {},
   "outputs": [],
   "source": [
    "import numpy as np\n",
    "\n",
    "class NeuralNetwork:\n",
    "    \n",
    "    def __init__(self, itter):\n",
    "        \"\"\"\n",
    "        Initialize the weights (from the first itteration)\n",
    "        * change itter to list of weights given (more correct)\n",
    "        \"\"\"\n",
    "        \n",
    "        # Hidden Layer        \n",
    "        self.hidden_weights = np.array([\n",
    "            [itter['w_2_11'], itter['w_2_21']],\n",
    "            [itter['w_2_12'], itter['w_2_22']],\n",
    "            [itter['w_2_13'], itter['w_2_23']]\n",
    "        ])\n",
    "        \n",
    "        # Output Layer\n",
    "        self.output_weights = np.array([\n",
    "            itter['w_3_11'],\n",
    "            itter['w_3_21'],\n",
    "            itter['w_3_31']\n",
    "        ])\n",
    "        \n",
    "    def forward_pass(self, X, y):\n",
    "        \n",
    "        def sigmoid(x):\n",
    "            return 1 / (1 + np.exp(-x))\n",
    "        \n",
    "        # Step 2) Hidden Layer\n",
    "        self.hidden_activation = np.delete(sigmoid(np.sum(self.hidden_weights * X, axis = 1)), 0, 1)\n",
    "        \n",
    "        # Step 3) Output Layer\n",
    "        self.output_activation = sigmoid(np.sum(self.output_weights * self.hidden_activation))\n",
    "        \n",
    "        # Step 4) Calculate the cost\n",
    "        self.E = 0.5 * (y - self.output_activation)**2\n",
    "        \n",
    "        return self.E\n",
    "        \n",
    "    def backward_pass(self, X, y):\n",
    "        \n",
    "        # Step 5) Error in the output layer\n",
    "        self.output_error = (y - self.output_activation) * self.output_activation * (1 - self.output_activation)\n",
    "        \n",
    "        # Step 6) Error in the hidden layer\n",
    "        self.hidden_error = self.output_weights * float(self.output_error) * self.hidden_activation * (1 - self.hidden_activation)\n",
    "        \n",
    "        # Step 7) Calculate the error with respect to weights between hidden and output layer\n",
    "        self.output_weights_error = self.hidden_activation * float(self.output_error)\n",
    "        \n",
    "        # Step 8) Calculate the error with respect to weights between input and hidden layer\n",
    "        self.hidden_weights_error = np.multiply(X.reshape(1,2), self.hidden_error).reshape(3,2,1)\n",
    "        \n",
    "        # Step 9) Update the weights between hidden and output layer\n",
    "        self.output_weights += self.output_weights_error\n",
    "        \n",
    "        # Step 10) Update the weights between input and hidden layer\n",
    "        self.hidden_weights += self.hidden_weights_error\n",
    "        "
   ]
  },
  {
   "cell_type": "markdown",
   "metadata": {},
   "source": [
    "### Running My Neural Network"
   ]
  },
  {
   "cell_type": "code",
   "execution_count": 327,
   "metadata": {},
   "outputs": [
    {
     "name": "stdout",
     "output_type": "stream",
     "text": [
      "[0.10818492703274096, 0.14989878116783156, 0.13367865179013283, 0.12859349402902231]\n"
     ]
    },
    {
     "data": {
      "text/plain": [
       "Text(0,0.5,'Error')"
      ]
     },
     "execution_count": 327,
     "metadata": {},
     "output_type": "execute_result"
    },
    {
     "data": {
      "image/png": "[encoded data removed]",
      "text/plain": [
       "<Figure size 432x288 with 1 Axes>"
      ]
     },
     "metadata": {
      "needs_background": "light"
     },
     "output_type": "display_data"
    }
   ],
   "source": [
    "import pandas as pd\n",
    "import matplotlib.pyplot as plt\n",
    "\n",
    "itterations = 4\n",
    "test = pd.read_csv('tests/2_test.csv')\n",
    "\n",
    "Errors = []\n",
    "\n",
    "# Initializing the Neural Network with the weights form the first Itteration\n",
    "NN = NeuralNetwork(test[test['itteration'] == 0])\n",
    "    \n",
    "for i in range(itterations):\n",
    "    \n",
    "    # input for iteration\n",
    "    X = np.array([test['x_1'][i], test['x_2'][i]])\n",
    "    y = test['y'][i]\n",
    "    \n",
    "    # run forwards and backwards\n",
    "    Errors.append(NN.forward_pass(X, y))\n",
    "    NN.backward_pass(X, y)\n",
    "    \n",
    "# Display Information About Errors\n",
    "print(Errors)\n",
    "plt.plot(Errors)\n",
    "plt.xlabel('Iteration')\n",
    "plt.ylabel('Error')"
   ]
  },
  {
   "cell_type": "code",
   "execution_count": 326,
   "metadata": {},
   "outputs": [
    {
     "data": {
      "text/html": [
       "<div>\n",
       "<style scoped>\n",
       "    .dataframe tbody tr th:only-of-type {\n",
       "        vertical-align: middle;\n",
       "    }\n",
       "\n",
       "    .dataframe tbody tr th {\n",
       "        vertical-align: top;\n",
       "    }\n",
       "\n",
       "    .dataframe thead th {\n",
       "        text-align: right;\n",
       "    }\n",
       "</style>\n",
       "<table border=\"1\" class=\"dataframe\">\n",
       "  <thead>\n",
       "    <tr style=\"text-align: right;\">\n",
       "      <th></th>\n",
       "      <th>E</th>\n",
       "    </tr>\n",
       "  </thead>\n",
       "  <tbody>\n",
       "    <tr>\n",
       "      <th>0</th>\n",
       "      <td>0.108185</td>\n",
       "    </tr>\n",
       "    <tr>\n",
       "      <th>1</th>\n",
       "      <td>0.147036</td>\n",
       "    </tr>\n",
       "    <tr>\n",
       "      <th>2</th>\n",
       "      <td>0.137263</td>\n",
       "    </tr>\n",
       "    <tr>\n",
       "      <th>3</th>\n",
       "      <td>0.128546</td>\n",
       "    </tr>\n",
       "  </tbody>\n",
       "</table>\n",
       "</div>"
      ],
      "text/plain": [
       "          E\n",
       "0  0.108185\n",
       "1  0.147036\n",
       "2  0.137263\n",
       "3  0.128546"
      ]
     },
     "execution_count": 326,
     "metadata": {},
     "output_type": "execute_result"
    }
   ],
   "source": [
    "test[['E']]"
   ]
  },
  {
   "cell_type": "markdown",
   "metadata": {},
   "source": [
    "This matches I suppose; we should see what the error looks like after several iterations (should be a steady decline)."
   ]
  },
  {
   "cell_type": "code",
   "execution_count": 331,
   "metadata": {},
   "outputs": [
    {
     "name": "stdout",
     "output_type": "stream",
     "text": [
      "[0.060571403905588184, 0.22672600377274388, 0.19763901396840997, 0.07893381382180545, 0.07140508395746352, 0.20903737330161956, 0.18437480878492934, 0.08775430794871728, 0.0814018670937433, 0.1943915962813368, 0.1734938414853722, 0.09550856987615462, 0.0902782751111397, 0.18247596500412153, 0.16469359159302202, 0.10214951303330697, 0.0979400678721069, 0.17288590482803187, 0.15763618271659047, 0.10773118322354143, 0.10442024901679668, 0.16521450501105328, 0.1520023995087715, 0.11236061408661803, 0.10982229494333323, 0.1590962326134865, 0.14751467179493402, 0.11616448536190561, 0.11427962232872337, 0.15422174425779095]\n"
     ]
    },
    {
     "data": {
      "text/plain": [
       "Text(0,0.5,'Error')"
      ]
     },
     "execution_count": 331,
     "metadata": {},
     "output_type": "execute_result"
    },
    {
     "data": {
      "image/png": "[encoded data removed]",
      "text/plain": [
       "<Figure size 432x288 with 1 Axes>"
      ]
     },
     "metadata": {
      "needs_background": "light"
     },
     "output_type": "display_data"
    }
   ],
   "source": [
    "import pandas as pd\n",
    "import matplotlib.pyplot as plt\n",
    "\n",
    "itterations = 30\n",
    "big_test = pd.read_csv('tests/big_test.csv')\n",
    "\n",
    "Errors = []\n",
    "\n",
    "# Initializing the Neural Network with the weights form the first Itteration\n",
    "NN = NeuralNetwork(big_test[big_test['itteration'] == 0])\n",
    "    \n",
    "for i in range(itterations):\n",
    "    \n",
    "    # input for iteration\n",
    "    X = np.array([big_test['x_1'][i], big_test['x_2'][i]])\n",
    "    y = big_test['y'][i]\n",
    "    \n",
    "    # run forwards and backwards\n",
    "    Errors.append(NN.forward_pass(X, y))\n",
    "    NN.backward_pass(X, y)\n",
    "    \n",
    "# Display Information About Errors\n",
    "print(Errors)\n",
    "plt.plot(Errors)\n",
    "plt.xlabel('Iteration')\n",
    "plt.ylabel('Error')"
   ]
  },
  {
   "cell_type": "markdown",
   "metadata": {},
   "source": [
    "I'm not sure what's going on here :("
   ]
  },
  {
   "cell_type": "markdown",
   "metadata": {},
   "source": [
    "## Data Collection\n",
    "\n",
    "This is a little bit of extra code for creating the test datasets. Selenium is great for scraping this data because it can interact with the model. The data of each step and iteration will be stored in CSVs so the selenium script doesn't need to be run for each test case. \n",
    "\n",
    "* following [Selenium Python API Guide](https://selenium-python.readthedocs.io/index.html)\n",
    "    * [Chapter 4](https://selenium-python.readthedocs.io/locating-elements.html) explains how to locate elements (I am using CSS selector)\n",
    "* this repository uses [ChromeDriver](https://sites.google.com/a/chromium.org/chromedriver/downloads) for Linux (v77)"
   ]
  },
  {
   "cell_type": "markdown",
   "metadata": {},
   "source": [
    "### The Implementation\n",
    "\n",
    "* [this article](https://markhneedham.com/blog/2015/07/15/python-unicodedecodeerror-ascii-codec-cant-decode-byte-0xe2-in-position-0-ordinal-not-in-range128/) explains all the weird unicode stuff (for the minus sign in the 'get_value' function)"
   ]
  },
  {
   "cell_type": "code",
   "execution_count": 124,
   "metadata": {},
   "outputs": [],
   "source": [
    "# Data Collection \n",
    "\n",
    "# Selenium Webdriver Library\n",
    "from selenium import webdriver\n",
    "\n",
    "\"\"\"\n",
    "    itters -> the itteration of the neural network\n",
    "    test_file -> the csv where the results will be stored\n",
    "\"\"\"\n",
    "def test_vals_collect(itters):\n",
    "    \n",
    "    def get_value(css_selector):\n",
    "        \n",
    "        num_string = driver.find_element_by_css_selector(css_selector).text.split('=')[-1]\n",
    "        \n",
    "        # this handles weird unicode negative values\n",
    "        if not num_string.find(u'−'):\n",
    "            return float(num_string.split(u'−')[1]) * -1\n",
    "        \n",
    "        return float(num_string)\n",
    "    \n",
    "    def one_step():\n",
    "        driver.find_element_by_css_selector(\n",
    "            '#app > div > div:nth-child(2) > div > div > div:nth-child(2) > div > div:nth-child(2) > div > div > div.player.text-center > button:nth-child(2)'\n",
    "        ).click()\n",
    "        \n",
    "    # Setup Driver / Launch Site\n",
    "    driver = webdriver.Chrome(\"./chromedriver\")\n",
    "    driver.get(\"https://www.mladdict.com/neural-network-simulator\")\n",
    "        \n",
    "    rows = []\n",
    "    \n",
    "    test_values = {\n",
    "        0: [1, 1, 0],\n",
    "        1: [0, 1, 1],\n",
    "        2: [1, 0, 1],\n",
    "        3: [0, 0, 0]\n",
    "    }\n",
    "        \n",
    "    for i in range(itters):\n",
    "\n",
    "        # 0) Initialization\n",
    "\n",
    "        selector_parent_path = '#app > div > div:nth-child(2) > div > div > div:nth-child(2) > div > div:nth-child(1) > div.col-md-10.col-sm-12.col-xs-12.vcenter > div > svg > svg:nth-child(2) >'\n",
    "\n",
    "        w_2_11 = get_value(selector_parent_path + 'svg:nth-child(1) > svg:nth-child(1) > svg > text')\n",
    "        w_2_21 = get_value(selector_parent_path + 'svg:nth-child(1) > svg:nth-child(4) > svg > text')\n",
    "        w_2_12 = get_value(selector_parent_path + 'svg:nth-child(1) > svg:nth-child(2) > svg > text')\n",
    "        w_2_22 = get_value(selector_parent_path + 'svg:nth-child(1) > svg:nth-child(5) > svg > text')\n",
    "        w_2_13 = get_value(selector_parent_path + 'svg:nth-child(1) > svg:nth-child(3) > svg > text')\n",
    "        w_2_23 = get_value(selector_parent_path + 'svg:nth-child(1) > svg:nth-child(6) > svg > text')\n",
    "\n",
    "        w_3_11 = get_value(selector_parent_path + 'svg:nth-child(2) > svg:nth-child(1) > svg > text')\n",
    "        w_3_21 = get_value(selector_parent_path + 'svg:nth-child(2) > svg:nth-child(2) > svg > text')\n",
    "        w_3_31 = get_value(selector_parent_path + 'svg:nth-child(2) > svg:nth-child(3) > svg > text')\n",
    "\n",
    "        # 1) Input Layer\n",
    "\n",
    "        one_step()\n",
    "        \n",
    "        test = test_values[i % 4]\n",
    "\n",
    "        x_1 = test[0] \n",
    "        x_2 = test[1]\n",
    "        y = test[2]\n",
    "        \n",
    "        # 2) Hidden Layer\n",
    "\n",
    "        one_step()\n",
    "\n",
    "        a_1_2 = get_value('#app > div > div:nth-child(2) > div > div > div:nth-child(3) > div > div > div:nth-child(3) > div:nth-child(2) > div > div.panel-body > div:nth-child(1) > span')\n",
    "        a_2_2 = get_value('#app > div > div:nth-child(2) > div > div > div:nth-child(3) > div > div > div:nth-child(3) > div:nth-child(2) > div > div.panel-body > div:nth-child(2) > span')\n",
    "        a_3_2 = get_value('#app > div > div:nth-child(2) > div > div > div:nth-child(3) > div > div > div:nth-child(3) > div:nth-child(2) > div > div.panel-body > div:nth-child(3) > span')\n",
    "\n",
    "        # 3) Output Layer\n",
    "\n",
    "        one_step()\n",
    "\n",
    "        a_1_3 = get_value('#app > div > div:nth-child(2) > div > div > div:nth-child(3) > div > div > div:nth-child(4) > div:nth-child(1) > div > div.panel-body > div > span > span > span.katex-html > span.base.displaystyle.textstyle.uncramped')\n",
    "\n",
    "        # 4) Calculate the cost\n",
    "\n",
    "        one_step()\n",
    "\n",
    "        E = get_value('#app > div > div:nth-child(2) > div > div > div:nth-child(3) > div > div > div:nth-child(4) > div:nth-child(2) > div > div.panel-body > div > span')\n",
    "\n",
    "        # 5) Error in the output layer\n",
    "\n",
    "        one_step()\n",
    "\n",
    "        d_1_3 = get_value('#app > div > div:nth-child(2) > div > div > div:nth-child(3) > div > div > div:nth-child(6) > div:nth-child(1) > div > div.panel-body > div > span > span > span.katex-html > span.base.displaystyle.textstyle.uncramped')\n",
    "\n",
    "        # 6) Error in the hidden layer\n",
    "\n",
    "        one_step()\n",
    "\n",
    "        d_1_2 = get_value('#app > div > div:nth-child(2) > div > div > div:nth-child(3) > div > div > div:nth-child(6) > div:nth-child(2) > div > div.panel-body > div:nth-child(1) > span')\n",
    "        d_2_2 = get_value('#app > div > div:nth-child(2) > div > div > div:nth-child(3) > div > div > div:nth-child(6) > div:nth-child(2) > div > div.panel-body > div:nth-child(2) > span')\n",
    "        d_3_2 = get_value('#app > div > div:nth-child(2) > div > div > div:nth-child(3) > div > div > div:nth-child(6) > div:nth-child(2) > div > div.panel-body > div:nth-child(3) > span')\n",
    "\n",
    "        # 7) Calculate the error with respect to weights between hidden and output layer\n",
    "\n",
    "        one_step()\n",
    "\n",
    "        dE_dw_11_3 = get_value('#app > div > div:nth-child(2) > div > div > div:nth-child(3) > div > div > div:nth-child(7) > div:nth-child(1) > div > div.panel-body > div:nth-child(1) > span')\n",
    "        dE_dw_21_3 = get_value('#app > div > div:nth-child(2) > div > div > div:nth-child(3) > div > div > div:nth-child(7) > div:nth-child(1) > div > div.panel-body > div:nth-child(2) > span')\n",
    "        dE_dw_31_3 = get_value('#app > div > div:nth-child(2) > div > div > div:nth-child(3) > div > div > div:nth-child(7) > div:nth-child(1) > div > div.panel-body > div:nth-child(3) > span')\n",
    "\n",
    "        # 8) Calculate the error with respect to weights between input and hidden layer\n",
    "\n",
    "        one_step()\n",
    "\n",
    "        dE_dw_11_2 = get_value('#app > div > div:nth-child(2) > div > div > div:nth-child(3) > div > div > div:nth-child(7) > div:nth-child(2) > div > div.panel-body > div:nth-child(1) > span')\n",
    "        dE_dw_12_2 = get_value('#app > div > div:nth-child(2) > div > div > div:nth-child(3) > div > div > div:nth-child(7) > div:nth-child(2) > div > div.panel-body > div:nth-child(2) > span')\n",
    "        dE_dw_13_2 = get_value('#app > div > div:nth-child(2) > div > div > div:nth-child(3) > div > div > div:nth-child(7) > div:nth-child(2) > div > div.panel-body > div:nth-child(3) > span')\n",
    "        dE_dw_21_2 = get_value('#app > div > div:nth-child(2) > div > div > div:nth-child(3) > div > div > div:nth-child(7) > div:nth-child(2) > div > div.panel-body > div:nth-child(4) > span')\n",
    "        dE_dw_22_2 = get_value('#app > div > div:nth-child(2) > div > div > div:nth-child(3) > div > div > div:nth-child(7) > div:nth-child(2) > div > div.panel-body > div:nth-child(5) > span')\n",
    "        dE_dw_23_2 = get_value('#app > div > div:nth-child(2) > div > div > div:nth-child(3) > div > div > div:nth-child(7) > div:nth-child(2) > div > div.panel-body > div:nth-child(6) > span')\n",
    "\n",
    "        # 9) Update the weights between hidden and output layer\n",
    "\n",
    "        one_step()\n",
    "\n",
    "        back_w_3_11 = get_value(selector_parent_path + 'svg:nth-child(2) > svg:nth-child(1) > svg > text')\n",
    "        back_w_3_21 = get_value(selector_parent_path + 'svg:nth-child(2) > svg:nth-child(2) > svg > text')\n",
    "        back_w_3_31 = get_value(selector_parent_path + 'svg:nth-child(2) > svg:nth-child(3) > svg > text')\n",
    "\n",
    "        # 10) Update the weights between input and hidden layer\n",
    "\n",
    "        one_step()\n",
    "\n",
    "        back_w_2_11 = get_value(selector_parent_path + 'svg:nth-child(1) > svg:nth-child(1) > svg > text')\n",
    "        back_w_2_21 = get_value(selector_parent_path + 'svg:nth-child(1) > svg:nth-child(4) > svg > text')\n",
    "        back_w_2_12 = get_value(selector_parent_path + 'svg:nth-child(1) > svg:nth-child(2) > svg > text')\n",
    "        back_w_2_22 = get_value(selector_parent_path + 'svg:nth-child(1) > svg:nth-child(5) > svg > text')\n",
    "        back_w_2_13 = get_value(selector_parent_path + 'svg:nth-child(1) > svg:nth-child(3) > svg > text')\n",
    "        back_w_2_23 = get_value(selector_parent_path + 'svg:nth-child(1) > svg:nth-child(6) > svg > text')\n",
    "        \n",
    "        # This is how the CSV data is stored\n",
    "        rows.append({\n",
    "            'itteration' : i,\n",
    "            'w_2_11' : w_2_11, 'w_2_21' : w_2_21, 'w_2_12' : w_2_12, 'w_2_22' : w_2_22, 'w_2_13' : w_2_13, 'w_2_23' : w_2_23,\n",
    "            'w_3_11' : w_3_11, 'w_3_21' : w_3_21, 'w_3_31' : w_3_31,\n",
    "            'x_1' : x_1, 'x_2' : x_2, 'y' : y,\n",
    "            'a_1_2' : a_1_2, 'a_2_2' : a_2_2, 'a_3_2' : a_3_2,\n",
    "            'a_1_3' : a_1_3,\n",
    "            'E' : E,\n",
    "            'd_1_3' : d_1_3,\n",
    "            'd_1_2' : d_1_2, 'd_2_2' : d_2_2, 'd_3_2' : d_3_2,\n",
    "            'dE_dw_11_3' : dE_dw_11_3, 'dE_dw_21_3' : dE_dw_21_3, 'dE_dw_31_3' : dE_dw_31_3, \n",
    "            'dE_dw_11_2' : dE_dw_11_2, 'dE_dw_12_2' : dE_dw_11_2, 'dE_dw_13_2' : dE_dw_13_2, 'dE_dw_21_2' : dE_dw_21_2, 'dE_dw_22_2' : dE_dw_22_2, 'dE_dw_23_2' : dE_dw_23_2,\n",
    "            'back_w_3_11' : back_w_3_11, 'back_w_3_21' : back_w_3_21, 'back_w_3_31' : back_w_3_31,\n",
    "            'back_w_2_11' : back_w_2_11, 'back_w_2_21' : back_w_2_21, 'back_w_2_12' : back_w_2_12, 'back_w_2_22' : back_w_2_22, 'back_w_2_13' : back_w_2_13, 'back_w_2_23' : back_w_2_23\n",
    "        })\n",
    "    \n",
    "    # End\n",
    "    driver.close()\n",
    "    \n",
    "    return rows"
   ]
  },
  {
   "cell_type": "markdown",
   "metadata": {},
   "source": [
    "### Running the Collection"
   ]
  },
  {
   "cell_type": "code",
   "execution_count": 125,
   "metadata": {},
   "outputs": [],
   "source": [
    "import pandas as pd\n",
    "\n",
    "tests = 4\n",
    "itterations = 4\n",
    "\n",
    "for t in range(tests):\n",
    "    \n",
    "    test_dict = test_vals_collect(itterations)\n",
    "    filename = \"tests/\" + str(t) + \"_test.csv\"\n",
    "    pd.DataFrame.from_dict(test_dict).to_csv(filename)"
   ]
  },
  {
   "cell_type": "code",
   "execution_count": 329,
   "metadata": {},
   "outputs": [],
   "source": [
    "import pandas as pd\n",
    "\n",
    "itterations = 30\n",
    "filename = \"tests/big_test.csv\"\n",
    "\n",
    "test_dict = test_vals_collect(itterations)\n",
    "pd.DataFrame.from_dict(test_dict).to_csv(filename)"
   ]
  },
  {
   "cell_type": "markdown",
   "metadata": {},
   "source": [
    "Few! That's a lot of stuff for such a tiny neural network! Imagine how much math is behind a neural network with multiple hidden layers! 🙀"
   ]
  }
 ],
 "metadata": {
  "kernelspec": {
   "display_name": "Python 3",
   "language": "python",
   "name": "python3"
  },
  "language_info": {
   "codemirror_mode": {
    "name": "ipython",
    "version": 2
   },
   "file_extension": ".py",
   "mimetype": "text/x-python",
   "name": "python",
   "nbconvert_exporter": "python",
   "pygments_lexer": "ipython2",
   "version": "2.7.15+"
  }
 },
 "nbformat": 4,
 "nbformat_minor": 2
}
